{
 "cells": [
  {
   "cell_type": "code",
   "execution_count": null,
   "metadata": {},
   "outputs": [],
   "source": [
    "from __future__ import division\n",
    "from __future__ import print_function\n",
    "\n",
    "from keras.models import model_from_json\n",
    "import utils\n",
    "import os\n",
    "import cv2\n",
    "import numpy as np\n",
    "import pandas as pd\n",
    "from scipy import ndimage "
   ]
  },
  {
   "cell_type": "code",
   "execution_count": null,
   "metadata": {
    "collapsed": true
   },
   "outputs": [],
   "source": [
    "# Size of training image files.\n",
    "image_size = (512,512)\n",
    "\n",
    "# The test image path\n",
    "TEST_PATH = \"data/test/\"\n",
    "\n",
    "# The output path for visualizations.\n",
    "OUTPUT_PATH = \"output\"\n",
    "\n",
    "# The number of slices each image will be cut into.\n",
    "n_slices = 32\n",
    "\n",
    "# The ratio of the image.\n",
    "ratio = (1, 1)\n",
    "\n",
    "classes = ['vegetation', 'water', 'desert', 'clouds']"
   ]
  },
  {
   "cell_type": "code",
   "execution_count": null,
   "metadata": {
    "collapsed": true
   },
   "outputs": [],
   "source": [
    "# The path to save the model.\n",
    "MODEL_PATH = \"models\"\n",
    "\n",
    "# The name the model will be saved to.\n",
    "model_name = \"model\""
   ]
  },
  {
   "cell_type": "code",
   "execution_count": null,
   "metadata": {},
   "outputs": [],
   "source": [
    "# load json and create model\n",
    "json_file = open(os.path.join(MODEL_PATH, model_name + \".json\"), 'r')\n",
    "loaded_model_json = json_file.read()\n",
    "json_file.close()\n",
    "model = model_from_json(loaded_model_json)\n",
    "# load weights into new model\n",
    "model.load_weights(os.path.join(MODEL_PATH, model_name + \".h5\"))\n",
    "print(\"Loaded model from disk\")"
   ]
  },
  {
   "cell_type": "code",
   "execution_count": null,
   "metadata": {
    "collapsed": true
   },
   "outputs": [],
   "source": [
    "with open(\"test_images.txt\", 'r') as f:\n",
    "    image_urls = f.read().split(\"\\n\")"
   ]
  },
  {
   "cell_type": "code",
   "execution_count": null,
   "metadata": {
    "scrolled": true
   },
   "outputs": [],
   "source": [
    "for i, image_url in enumerate(image_urls):\n",
    "    utils.download_image(image_url, os.path.join(TEST_PATH, '_'.join(image_url.split('/')[8:])))"
   ]
  },
  {
   "cell_type": "code",
   "execution_count": null,
   "metadata": {},
   "outputs": [],
   "source": [
    "X_test = []\n",
    "full_images = []\n",
    "test_image_f_names = os.listdir(TEST_PATH)\n",
    "\n",
    "for f_name in test_image_f_names:\n",
    "    img = cv2.imread(os.path.join(TEST_PATH, f_name))    \n",
    "    img = cv2.cvtColor(img, cv2.COLOR_BGR2RGB)\n",
    "\n",
    "    img_resize = cv2.resize(img, image_size)\n",
    "    slices = utils.prepare_images(img_resize, image_size, ratio, n_slices)\n",
    "    X_test.append(slices)\n",
    "    full_images.append(img_resize)\n",
    "    \n",
    "full_images = np.stack(full_images)\n",
    "X_test = np.stack(X_test)\n",
    "X_test = X_test.reshape(X_test.shape[0] * X_test.shape[1], X_test.shape[2], X_test.shape[3], X_test.shape[4])"
   ]
  },
  {
   "cell_type": "code",
   "execution_count": null,
   "metadata": {},
   "outputs": [],
   "source": [
    "preds = model.predict(X_test, verbose=1)"
   ]
  },
  {
   "cell_type": "code",
   "execution_count": null,
   "metadata": {
    "collapsed": true
   },
   "outputs": [],
   "source": [
    "labels = np.argmax(preds, axis=1)\n",
    "labels = np.reshape(labels, (len(full_images), n_slices, n_slices))"
   ]
  },
  {
   "cell_type": "code",
   "execution_count": null,
   "metadata": {
    "collapsed": true
   },
   "outputs": [],
   "source": [
    "colors = {\n",
    "    0:(124,252,0),\n",
    "    1:(244,164,96),\n",
    "    2:(0,191,255),\n",
    "    3:(255, 255, 255)\n",
    "}"
   ]
  },
  {
   "cell_type": "code",
   "execution_count": null,
   "metadata": {},
   "outputs": [],
   "source": [
    "percentages = []\n",
    "\n",
    "for i, (f_name, img, l) in enumerate(zip(test_image_f_names, full_images, labels)):\n",
    "    assignment_mask = np.zeros((l.shape[0], l.shape[1], 3))\n",
    "    percentages.append(np.bincount(l.flatten()) / l.size)\n",
    "    \n",
    "    for label in xrange(len(classes)):\n",
    "        assignment_mask[np.isin(l, label)] = colors[label]\n",
    "        \n",
    "    alpha = 0.4\n",
    "    output = img.copy()\n",
    "    img = cv2.cvtColor(img, cv2.COLOR_RGB2BGR)\n",
    "    output = output.astype('uint8')\n",
    "    assignment_mask = assignment_mask.astype('uint8')\n",
    "    assignment_mask = cv2.resize(assignment_mask, image_size, interpolation=cv2.INTER_CUBIC)\n",
    "    assignment_mask = cv2.flip(ndimage.rotate(assignment_mask, 90),0)\n",
    "    overlay = assignment_mask\n",
    "    output = cv2.addWeighted(overlay, alpha, output, 1 - alpha,\n",
    "                    0, output)\n",
    "    cv2.imwrite(os.path.join(OUTPUT_PATH, f_name), img)\n",
    "    cv2.imwrite(os.path.join(OUTPUT_PATH, \"overlay_\" + f_name), output)\n",
    "    cv2.imwrite(os.path.join(OUTPUT_PATH, \"mask_\" + f_name), assignment_mask)"
   ]
  },
  {
   "cell_type": "code",
   "execution_count": null,
   "metadata": {},
   "outputs": [],
   "source": [
    "results = pd.DataFrame(percentages, columns=classes)\n",
    "results['f_name'] = test_image_f_names\n",
    "results = results.fillna(0)"
   ]
  },
  {
   "cell_type": "code",
   "execution_count": null,
   "metadata": {},
   "outputs": [],
   "source": [
    "results"
   ]
  },
  {
   "cell_type": "code",
   "execution_count": null,
   "metadata": {
    "collapsed": true
   },
   "outputs": [],
   "source": []
  }
 ],
 "metadata": {
  "kernelspec": {
   "display_name": "Python 2",
   "language": "python",
   "name": "python2"
  },
  "language_info": {
   "codemirror_mode": {
    "name": "ipython",
    "version": 2
   },
   "file_extension": ".py",
   "mimetype": "text/x-python",
   "name": "python",
   "nbconvert_exporter": "python",
   "pygments_lexer": "ipython2",
   "version": "2.7.13"
  }
 },
 "nbformat": 4,
 "nbformat_minor": 2
}
