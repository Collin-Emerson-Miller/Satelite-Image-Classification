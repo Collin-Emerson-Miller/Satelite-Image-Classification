{
 "cells": [
  {
   "cell_type": "code",
   "execution_count": 1,
   "metadata": {},
   "outputs": [
    {
     "name": "stderr",
     "output_type": "stream",
     "text": [
      "Using TensorFlow backend.\n"
     ]
    }
   ],
   "source": [
    "from __future__ import division\n",
    "\n",
    "import urllib\n",
    "import os\n",
    "import glob\n",
    "import random\n",
    "import cv2\n",
    "import numpy as np\n",
    "from keras.models import Sequential\n",
    "from keras.layers import Input, Conv2D, Dense, Flatten, MaxPool2D, Dropout\n",
    "from keras.utils import to_categorical\n",
    "from keras import optimizers\n",
    "import matplotlib.pyplot as plt\n",
    "%matplotlib inline\n",
    "\n",
    "import utils\n",
    "from scipy import ndimage "
   ]
  },
  {
   "cell_type": "code",
   "execution_count": 2,
   "metadata": {
    "collapsed": true
   },
   "outputs": [],
   "source": [
    "image_size = (512,512)\n",
    "n_slices = 32\n",
    "ratio = (1, 1)\n",
    "gray = False"
   ]
  },
  {
   "cell_type": "markdown",
   "metadata": {},
   "source": [
    "## Load Training Images"
   ]
  },
  {
   "cell_type": "code",
   "execution_count": 52,
   "metadata": {
    "collapsed": true
   },
   "outputs": [],
   "source": [
    "CORPUS_PATH = \"data/train/\"\n",
    "TEST_PATH = \"data/test/\"\n",
    "OUTPUT_PATH = \"output\""
   ]
  },
  {
   "cell_type": "code",
   "execution_count": 4,
   "metadata": {},
   "outputs": [
    {
     "name": "stdout",
     "output_type": "stream",
     "text": [
      "vegetation\n",
      "water\n",
      "desert\n",
      "clouds\n"
     ]
    }
   ],
   "source": [
    "classes = os.listdir(CORPUS_PATH)\n",
    "\n",
    "image_list = []\n",
    "label_list = []\n",
    "\n",
    "for label, c in enumerate(classes):\n",
    "    print(c)\n",
    "    terrain_path = os.path.join(CORPUS_PATH, c)\n",
    "    for f_name in os.listdir(terrain_path):\n",
    "        img = cv2.imread(os.path.join(terrain_path, f_name))\n",
    "        if gray:\n",
    "            img = cv2.cvtColor(img, cv2.COLOR_BGR2GRAY)\n",
    "            \n",
    "        img_resize = cv2.resize(img, image_size)\n",
    "        slices = utils.prepare_images(img_resize, image_size, ratio, n_slices)\n",
    "        if gray:\n",
    "            slices = np.expand_dims(slices, -1)\n",
    "        image_list.append(slices)\n",
    "        label_list.append(np.full((slices.shape[0]), label))\n",
    "        \n",
    "X_train = np.concatenate(image_list)\n",
    "labels = np.concatenate(label_list)\n",
    "one_hot_labels = to_categorical(labels, num_classes=len(classes))"
   ]
  },
  {
   "cell_type": "code",
   "execution_count": 5,
   "metadata": {},
   "outputs": [
    {
     "data": {
      "text/plain": [
       "(165888, 16, 16, 3)"
      ]
     },
     "execution_count": 5,
     "metadata": {},
     "output_type": "execute_result"
    }
   ],
   "source": [
    "X_train.shape"
   ]
  },
  {
   "cell_type": "code",
   "execution_count": 6,
   "metadata": {},
   "outputs": [
    {
     "data": {
      "text/plain": [
       "<matplotlib.image.AxesImage at 0x7fb0bdf61b50>"
      ]
     },
     "execution_count": 6,
     "metadata": {},
     "output_type": "execute_result"
    },
    {
     "data": {
      "image/png": "[encoded data removed]",
      "text/plain": [
       "<matplotlib.figure.Figure at 0x7fb14c36d2d0>"
      ]
     },
     "metadata": {},
     "output_type": "display_data"
    }
   ],
   "source": [
    "plt.imshow(X_train[15, :, :])"
   ]
  },
  {
   "cell_type": "markdown",
   "metadata": {},
   "source": [
    "## Create Model"
   ]
  },
  {
   "cell_type": "code",
   "execution_count": 7,
   "metadata": {
    "collapsed": true
   },
   "outputs": [],
   "source": [
    "if gray:\n",
    "    input_shape = (X_train.shape[1], X_train.shape[2], 1)\n",
    "else:\n",
    "    input_shape = (X_train.shape[1], X_train.shape[2], 3)"
   ]
  },
  {
   "cell_type": "code",
   "execution_count": 8,
   "metadata": {
    "collapsed": true
   },
   "outputs": [],
   "source": [
    "model = Sequential()\n",
    "model.add(Conv2D(32, (3, 3), padding='same',\n",
    "                 input_shape=input_shape, activation='relu'))\n",
    "model.add(Conv2D(32, (3, 3), activation='relu'))\n",
    "model.add(MaxPool2D(pool_size=(2, 2)))\n",
    "model.add(Dropout(0.25))\n",
    "\n",
    "model.add(Conv2D(64, (3, 3), padding='same', activation='relu'))\n",
    "model.add(Conv2D(64, (3, 3), activation='relu'))\n",
    "model.add(MaxPool2D(pool_size=(2, 2)))\n",
    "model.add(Dropout(0.25))\n",
    "\n",
    "model.add(Flatten())\n",
    "model.add(Dense(512, activation='relu'))\n",
    "model.add(Dropout(0.5))\n",
    "model.add(Dense(len(classes), activation='softmax'))\n",
    "\n",
    "opt = optimizers.rmsprop(lr=0.001, decay=1e-6)\n",
    "\n",
    "model.compile(loss='categorical_crossentropy',\n",
    "              optimizer=opt,\n",
    "              metrics=['accuracy'])"
   ]
  },
  {
   "cell_type": "markdown",
   "metadata": {},
   "source": [
    "## Train Model"
   ]
  },
  {
   "cell_type": "code",
   "execution_count": 9,
   "metadata": {
    "scrolled": true
   },
   "outputs": [
    {
     "name": "stdout",
     "output_type": "stream",
     "text": [
      "Epoch 1/5\n",
      "165888/165888 [==============================] - 13s - loss: 1.7535 - acc: 0.6087    \n",
      "Epoch 2/5\n",
      "165888/165888 [==============================] - 9s - loss: 0.6151 - acc: 0.7779     \n",
      "Epoch 3/5\n",
      "165888/165888 [==============================] - 9s - loss: 0.6297 - acc: 0.7986     \n",
      "Epoch 4/5\n",
      "165888/165888 [==============================] - 9s - loss: 0.4579 - acc: 0.8485     \n",
      "Epoch 5/5\n",
      "165888/165888 [==============================] - 9s - loss: 0.3930 - acc: 0.8675     \n"
     ]
    }
   ],
   "source": [
    "history = model.fit(X_train, one_hot_labels, epochs=5, batch_size=2056)"
   ]
  },
  {
   "cell_type": "code",
   "execution_count": 10,
   "metadata": {},
   "outputs": [
    {
     "data": {
      "text/plain": [
       "[<matplotlib.lines.Line2D at 0x7fb0bc6d1250>]"
      ]
     },
     "execution_count": 10,
     "metadata": {},
     "output_type": "execute_result"
    },
    {
     "data": {
      "image/png": "[encoded data removed]",
      "text/plain": [
       "<matplotlib.figure.Figure at 0x7fb0bc6d1510>"
      ]
     },
     "metadata": {},
     "output_type": "display_data"
    }
   ],
   "source": [
    "plt.plot(history.history['acc'])\n",
    "plt.plot(history.history['loss'])"
   ]
  },
  {
   "cell_type": "markdown",
   "metadata": {},
   "source": [
    "## Read test images"
   ]
  },
  {
   "cell_type": "code",
   "execution_count": 11,
   "metadata": {
    "collapsed": true
   },
   "outputs": [],
   "source": [
    "def download_image(url, file_name):\n",
    "    return urllib.urlretrieve(url, file_name)"
   ]
  },
  {
   "cell_type": "code",
   "execution_count": 148,
   "metadata": {
    "collapsed": true
   },
   "outputs": [],
   "source": [
    "with open(\"test_images.txt\", 'r') as f:\n",
    "    image_urls = f.read().split(\"\\n\")"
   ]
  },
  {
   "cell_type": "code",
   "execution_count": 149,
   "metadata": {
    "collapsed": true
   },
   "outputs": [],
   "source": [
    "for i, image_url in enumerate(image_urls):\n",
    "    download_image(image_url, os.path.join(TEST_PATH, str(i)))"
   ]
  },
  {
   "cell_type": "code",
   "execution_count": 53,
   "metadata": {
    "collapsed": true
   },
   "outputs": [],
   "source": [
    "image_list = []\n",
    "gray_list = []\n",
    "for f_name in os.listdir(TEST_PATH):\n",
    "    img = cv2.imread(os.path.join(TEST_PATH, f_name))    \n",
    "    if gray:\n",
    "        img = cv2.cvtColor(img_resize, cv2.COLOR_BGR2GRAY)\n",
    "\n",
    "    img_resize = cv2.resize(img, image_size)\n",
    "    slices = utils.prepare_images(img_resize, image_size, ratio, n_slices)\n",
    "    gray_list.append(np.expand_dims(slices, -1))\n",
    "    image_list.append(img_resize)\n",
    "    \n",
    "images = np.stack(image_list)\n",
    "X = np.stack(gray_list)\n",
    "X = X.reshape(X.shape[0] * X.shape[1], X.shape[2], X.shape[3], X.shape[4])"
   ]
  },
  {
   "cell_type": "code",
   "execution_count": 54,
   "metadata": {},
   "outputs": [
    {
     "data": {
      "text/plain": [
       "(57344, 16, 16, 3)"
      ]
     },
     "execution_count": 54,
     "metadata": {},
     "output_type": "execute_result"
    }
   ],
   "source": [
    "X.shape"
   ]
  },
  {
   "cell_type": "code",
   "execution_count": 55,
   "metadata": {},
   "outputs": [
    {
     "data": {
      "text/plain": [
       "<matplotlib.image.AxesImage at 0x7fb06ef7e910>"
      ]
     },
     "execution_count": 55,
     "metadata": {},
     "output_type": "execute_result"
    },
    {
     "data": {
      "image/png": "[encoded data removed]",
      "text/plain": [
       "<matplotlib.figure.Figure at 0x7fb06f057d50>"
      ]
     },
     "metadata": {},
     "output_type": "display_data"
    }
   ],
   "source": [
    "plt.imshow(X[0,:, :])"
   ]
  },
  {
   "cell_type": "markdown",
   "metadata": {},
   "source": [
    "## Predict Labels\n",
    "\n",
    "vegetation\n",
    "\n",
    "water\n",
    "\n",
    "desert\n",
    "\n",
    "clouds"
   ]
  },
  {
   "cell_type": "code",
   "execution_count": 56,
   "metadata": {
    "collapsed": true
   },
   "outputs": [],
   "source": [
    "preds = model.predict(X)"
   ]
  },
  {
   "cell_type": "code",
   "execution_count": 57,
   "metadata": {
    "collapsed": true
   },
   "outputs": [],
   "source": [
    "labels = np.argmax(preds, axis=1)"
   ]
  },
  {
   "cell_type": "code",
   "execution_count": 58,
   "metadata": {
    "collapsed": true,
    "scrolled": true
   },
   "outputs": [],
   "source": [
    "labels = np.reshape(labels, (len(images), n_slices, n_slices))"
   ]
  },
  {
   "cell_type": "markdown",
   "metadata": {},
   "source": [
    "## Visualize Predictions"
   ]
  },
  {
   "cell_type": "code",
   "execution_count": 59,
   "metadata": {
    "collapsed": true
   },
   "outputs": [],
   "source": [
    "colors = [(124,252,0), (244,164,96),(0,191,255), (255, 255, 255)]"
   ]
  },
  {
   "cell_type": "code",
   "execution_count": 60,
   "metadata": {
    "collapsed": true
   },
   "outputs": [],
   "source": [
    "percentages = []\n",
    "\n",
    "for i, (img, l) in enumerate(zip(images, labels)):\n",
    "    assignment_mask = np.zeros((l.shape[0], l.shape[1], 3))\n",
    "    percentages.append(np.bincount(l.flatten()) / l.size)\n",
    "    for label in xrange(len(classes)):\n",
    "        assignment_mask[np.isin(l, label)] = colors[label]\n",
    "        \n",
    "    alpha = 0.5\n",
    "    output = img.copy()\n",
    "    output = output.astype('uint8')\n",
    "    assignment_mask = assignment_mask.astype('uint8')\n",
    "    assignment_mask = cv2.resize(assignment_mask, image_size, interpolation=cv2.INTER_CUBIC)\n",
    "    assignment_mask = cv2.flip(ndimage.rotate(assignment_mask, 90),0)\n",
    "    overlay = assignment_mask\n",
    "    output = cv2.addWeighted(overlay, alpha, output, 1 - alpha,\n",
    "                    0, output)\n",
    "    cv2.imwrite(os.path.join(OUTPUT_PATH, \"{}.jpg\".format(i)), img)\n",
    "    cv2.imwrite(os.path.join(OUTPUT_PATH, \"{}_overlay.jpg\".format(i)), output)\n",
    "    cv2.imwrite(os.path.join(OUTPUT_PATH, \"{}_labels.jpg\".format(i)), assignment_mask)"
   ]
  },
  {
   "cell_type": "code",
   "execution_count": 61,
   "metadata": {},
   "outputs": [
    {
     "data": {
      "text/plain": [
       "[array([  0.00000000e+00,   0.00000000e+00,   9.99023438e-01,\n",
       "          9.76562500e-04]),\n",
       " array([ 0.,  0.,  1.]),\n",
       " array([ 0.        ,  0.        ,  0.99804688,  0.00195312]),\n",
       " array([ 0.01367188,  0.00683594,  0.68457031,  0.29492188]),\n",
       " array([ 0.00292969,  0.        ,  0.69042969,  0.30664062]),\n",
       " array([ 0.15332031,  0.05078125,  0.72363281,  0.07226562]),\n",
       " array([ 0.54296875,  0.22558594,  0.05371094,  0.17773438]),\n",
       " array([ 0.19433594,  0.34863281,  0.24609375,  0.2109375 ]),\n",
       " array([ 0.00878906,  0.        ,  0.91308594,  0.078125  ]),\n",
       " array([ 0.09667969,  0.84472656,  0.02832031,  0.03027344]),\n",
       " array([ 0.,  1.]),\n",
       " array([ 0.16015625,  0.02929688,  0.73339844,  0.07714844]),\n",
       " array([ 0.40820312,  0.50585938,  0.06347656,  0.02246094]),\n",
       " array([ 0.      ,  0.515625,  0.      ,  0.484375]),\n",
       " array([ 0.00292969,  0.03808594,  0.30175781,  0.65722656]),\n",
       " array([ 0.41015625,  0.09277344,  0.2421875 ,  0.25488281]),\n",
       " array([ 0.43554688,  0.06445312,  0.00976562,  0.49023438]),\n",
       " array([ 0.04003906,  0.015625  ,  0.78710938,  0.15722656]),\n",
       " array([ 0.01660156,  0.59472656,  0.16210938,  0.2265625 ]),\n",
       " array([ 0.92382812,  0.01074219,  0.04589844,  0.01953125]),\n",
       " array([ 0.        ,  0.78515625,  0.01953125,  0.1953125 ]),\n",
       " array([ 0.10253906,  0.14257812,  0.01757812,  0.73730469]),\n",
       " array([ 0.        ,  0.76074219,  0.        ,  0.23925781]),\n",
       " array([ 0.41210938,  0.38769531,  0.01367188,  0.18652344]),\n",
       " array([ 0.40625   ,  0.09667969,  0.01171875,  0.48535156]),\n",
       " array([ 0.      ,  0.765625,  0.      ,  0.234375]),\n",
       " array([ 0.47070312,  0.04394531,  0.234375  ,  0.25097656]),\n",
       " array([ 0.12304688,  0.00878906,  0.78125   ,  0.08691406]),\n",
       " array([ 0.        ,  0.45703125,  0.        ,  0.54296875]),\n",
       " array([ 0.00683594,  0.03417969,  0.94335938,  0.015625  ]),\n",
       " array([ 0.        ,  0.91894531,  0.        ,  0.08105469]),\n",
       " array([ 0.30078125,  0.06933594,  0.02148438,  0.60839844]),\n",
       " array([ 0.18945312,  0.00195312,  0.80078125,  0.0078125 ]),\n",
       " array([ 0.        ,  0.97167969,  0.        ,  0.02832031]),\n",
       " array([ 0.        ,  0.98730469,  0.        ,  0.01269531]),\n",
       " array([ 0.00488281,  0.56542969,  0.02734375,  0.40234375]),\n",
       " array([ 0.03125   ,  0.234375  ,  0.55371094,  0.18066406]),\n",
       " array([ 0.        ,  0.        ,  0.99414062,  0.00585938]),\n",
       " array([ 0.05175781,  0.47070312,  0.16015625,  0.31738281]),\n",
       " array([ 0.26171875,  0.06933594,  0.03027344,  0.63867188]),\n",
       " array([ 0.3359375 ,  0.08691406,  0.43945312,  0.13769531]),\n",
       " array([ 0.04785156,  0.22949219,  0.00390625,  0.71875   ]),\n",
       " array([ 0.        ,  0.71386719,  0.00292969,  0.28320312]),\n",
       " array([ 0.        ,  0.953125  ,  0.00195312,  0.04492188]),\n",
       " array([ 0.00878906,  0.29882812,  0.41113281,  0.28125   ]),\n",
       " array([ 0.83398438,  0.04296875,  0.01660156,  0.10644531]),\n",
       " array([ 0.03125   ,  0.00585938,  0.890625  ,  0.07226562]),\n",
       " array([ 0.01269531,  0.59472656,  0.13476562,  0.2578125 ]),\n",
       " array([ 0.12695312,  0.33984375,  0.08203125,  0.45117188]),\n",
       " array([ 0.16699219,  0.4765625 ,  0.06347656,  0.29296875]),\n",
       " array([ 0.        ,  0.93652344,  0.        ,  0.06347656]),\n",
       " array([ 0.79199219,  0.01464844,  0.09375   ,  0.09960938]),\n",
       " array([ 0.43652344,  0.12402344,  0.04785156,  0.39160156]),\n",
       " array([ 0.00097656,  0.        ,  0.94433594,  0.0546875 ]),\n",
       " array([ 0.04980469,  0.00878906,  0.91503906,  0.02636719]),\n",
       " array([ 0.00097656,  0.07324219,  0.91015625,  0.015625  ])]"
      ]
     },
     "execution_count": 61,
     "metadata": {},
     "output_type": "execute_result"
    }
   ],
   "source": [
    "percentages"
   ]
  },
  {
   "cell_type": "code",
   "execution_count": 48,
   "metadata": {},
   "outputs": [
    {
     "data": {
      "text/plain": [
       "['vegetation', 'water', 'desert', 'clouds']"
      ]
     },
     "execution_count": 48,
     "metadata": {},
     "output_type": "execute_result"
    }
   ],
   "source": [
    "classes"
   ]
  },
  {
   "cell_type": "code",
   "execution_count": 49,
   "metadata": {},
   "outputs": [
    {
     "data": {
      "text/plain": [
       "[array([ 0.00097656,  0.04101562,  0.84765625,  0.11035156]),\n",
       " array([ 0.00097656,  0.12402344,  0.61816406,  0.25683594]),\n",
       " array([ 0.00292969,  0.11621094,  0.87011719,  0.01074219]),\n",
       " array([ 0.        ,  0.10253906,  0.86425781,  0.03320312]),\n",
       " array([ 0.00097656,  0.07226562,  0.91796875,  0.00878906]),\n",
       " array([ 0.00097656,  0.10742188,  0.84082031,  0.05078125]),\n",
       " array([ 0.00097656,  0.08691406,  0.88964844,  0.02246094]),\n",
       " array([ 0.00097656,  0.04199219,  0.95117188,  0.00585938]),\n",
       " array([ 0.00292969,  0.10742188,  0.87988281,  0.00976562]),\n",
       " array([ 0.01269531,  0.046875  ,  0.87011719,  0.0703125 ]),\n",
       " array([ 0.00292969,  0.14550781,  0.83496094,  0.01660156]),\n",
       " array([ 0.00195312,  0.08398438,  0.80566406,  0.10839844]),\n",
       " array([ 0.        ,  0.10546875,  0.88867188,  0.00585938]),\n",
       " array([ 0.00097656,  0.09960938,  0.89941406]),\n",
       " array([ 0.00195312,  0.09179688,  0.88574219,  0.02050781]),\n",
       " array([ 0.00097656,  0.07324219,  0.91015625,  0.015625  ]),\n",
       " array([ 0.        ,  0.11230469,  0.84375   ,  0.04394531]),\n",
       " array([ 0.00976562,  0.04296875,  0.92285156,  0.02441406]),\n",
       " array([ 0.00292969,  0.09082031,  0.86328125,  0.04296875]),\n",
       " array([ 0.00292969,  0.11132812,  0.85058594,  0.03515625]),\n",
       " array([ 0.        ,  0.08496094,  0.85449219,  0.06054688]),\n",
       " array([ 0.        ,  0.0625    ,  0.84960938,  0.08789062]),\n",
       " array([ 0.        ,  0.08300781,  0.88769531,  0.02929688]),\n",
       " array([ 0.00097656,  0.06933594,  0.8203125 ,  0.109375  ]),\n",
       " array([ 0.00097656,  0.11230469,  0.80371094,  0.08300781]),\n",
       " array([ 0.00195312,  0.10742188,  0.85253906,  0.03808594]),\n",
       " array([ 0.00097656,  0.10546875,  0.88378906,  0.00976562]),\n",
       " array([ 0.        ,  0.11816406,  0.86132812,  0.02050781]),\n",
       " array([ 0.00195312,  0.08203125,  0.86132812,  0.0546875 ]),\n",
       " array([ 0.00097656,  0.02441406,  0.74609375,  0.22851562]),\n",
       " array([ 0.00390625,  0.11621094,  0.859375  ,  0.02050781]),\n",
       " array([ 0.00097656,  0.12402344,  0.875     ]),\n",
       " array([ 0.00195312,  0.07226562,  0.70605469,  0.21972656]),\n",
       " array([ 0.00097656,  0.12207031,  0.87597656,  0.00097656]),\n",
       " array([ 0.00683594,  0.10253906,  0.82324219,  0.06738281]),\n",
       " array([ 0.00292969,  0.14355469,  0.83984375,  0.01367188]),\n",
       " array([ 0.        ,  0.10546875,  0.80957031,  0.08496094]),\n",
       " array([ 0.        ,  0.08886719,  0.88476562,  0.02636719]),\n",
       " array([ 0.00097656,  0.10546875,  0.79394531,  0.09960938]),\n",
       " array([ 0.00195312,  0.1015625 ,  0.89160156,  0.00488281]),\n",
       " array([ 0.00097656,  0.08398438,  0.89453125,  0.02050781]),\n",
       " array([ 0.00097656,  0.12011719,  0.80957031,  0.06933594]),\n",
       " array([ 0.00097656,  0.03417969,  0.82324219,  0.14160156]),\n",
       " array([ 0.00097656,  0.08398438,  0.89257812,  0.02246094]),\n",
       " array([ 0.00390625,  0.09472656,  0.89257812,  0.00878906]),\n",
       " array([ 0.        ,  0.00976562,  0.77832031,  0.21191406])]"
      ]
     },
     "execution_count": 49,
     "metadata": {},
     "output_type": "execute_result"
    }
   ],
   "source": [
    "percentages"
   ]
  },
  {
   "cell_type": "code",
   "execution_count": 38,
   "metadata": {},
   "outputs": [
    {
     "data": {
      "text/plain": [
       "[array([ 0.94628906,  0.01171875,  0.        ,  0.04199219]),\n",
       " array([ 0.91503906,  0.02636719,  0.00878906,  0.04980469]),\n",
       " array([ 0.92089844,  0.00878906,  0.01269531,  0.05761719]),\n",
       " array([ 0.94042969,  0.01171875,  0.00195312,  0.04589844]),\n",
       " array([ 0.97753906,  0.00292969,  0.00195312,  0.01757812]),\n",
       " array([ 0.93066406,  0.00683594,  0.00488281,  0.05761719]),\n",
       " array([ 0.97949219,  0.015625  ,  0.        ,  0.00488281]),\n",
       " array([  9.98046875e-01,   9.76562500e-04,   0.00000000e+00,\n",
       "          9.76562500e-04]),\n",
       " array([ 0.95898438,  0.00488281,  0.00292969,  0.03320312]),\n",
       " array([ 0.88671875,  0.01074219,  0.        ,  0.10253906]),\n",
       " array([ 0.96972656,  0.00488281,  0.00097656,  0.02441406]),\n",
       " array([ 0.96386719,  0.00195312,  0.        ,  0.03417969])]"
      ]
     },
     "execution_count": 38,
     "metadata": {},
     "output_type": "execute_result"
    }
   ],
   "source": [
    "percentages"
   ]
  },
  {
   "cell_type": "code",
   "execution_count": 27,
   "metadata": {},
   "outputs": [
    {
     "data": {
      "text/plain": [
       "[array([ 0.        ,  0.90917969,  0.00097656,  0.08984375]),\n",
       " array([ 0.        ,  0.80859375,  0.01953125,  0.171875  ]),\n",
       " array([ 0.        ,  0.69042969,  0.02636719,  0.28320312]),\n",
       " array([ 0.        ,  0.58203125,  0.03417969,  0.38378906]),\n",
       " array([ 0.        ,  0.94628906,  0.00390625,  0.04980469]),\n",
       " array([ 0.        ,  0.88574219,  0.        ,  0.11425781]),\n",
       " array([ 0.     ,  0.90625,  0.     ,  0.09375]),\n",
       " array([ 0.        ,  0.90039062,  0.00976562,  0.08984375]),\n",
       " array([ 0.        ,  0.82714844,  0.02832031,  0.14453125]),\n",
       " array([ 0.        ,  0.87597656,  0.00976562,  0.11425781]),\n",
       " array([ 0.        ,  0.87207031,  0.0078125 ,  0.12011719]),\n",
       " array([ 0.        ,  0.75195312,  0.02050781,  0.22753906]),\n",
       " array([ 0.        ,  0.66308594,  0.01464844,  0.32226562]),\n",
       " array([ 0.        ,  0.6640625 ,  0.00195312,  0.33398438]),\n",
       " array([ 0.        ,  0.81640625,  0.01269531,  0.17089844]),\n",
       " array([ 0.        ,  0.65625   ,  0.02832031,  0.31542969]),\n",
       " array([ 0.        ,  0.5546875 ,  0.00878906,  0.43652344]),\n",
       " array([ 0.        ,  0.93359375,  0.00292969,  0.06347656]),\n",
       " array([ 0.00097656,  0.57910156,  0.02636719,  0.39355469]),\n",
       " array([ 0.        ,  0.84472656,  0.00097656,  0.15429688]),\n",
       " array([ 0.        ,  0.93457031,  0.01855469,  0.046875  ]),\n",
       " array([ 0.        ,  0.67773438,  0.03515625,  0.28710938]),\n",
       " array([ 0.        ,  0.60546875,  0.02734375,  0.3671875 ]),\n",
       " array([ 0.        ,  0.87890625,  0.02832031,  0.09277344]),\n",
       " array([ 0.        ,  0.89648438,  0.00390625,  0.09960938]),\n",
       " array([ 0.        ,  0.93457031,  0.        ,  0.06542969]),\n",
       " array([ 0.        ,  0.87402344,  0.00195312,  0.12402344]),\n",
       " array([ 0.        ,  0.97167969,  0.        ,  0.02832031]),\n",
       " array([ 0.        ,  0.99511719,  0.00292969,  0.00195312]),\n",
       " array([ 0.        ,  0.90917969,  0.        ,  0.09082031]),\n",
       " array([ 0.        ,  0.92480469,  0.00195312,  0.07324219]),\n",
       " array([ 0.        ,  0.98339844,  0.        ,  0.01660156]),\n",
       " array([ 0.        ,  0.91503906,  0.        ,  0.08496094])]"
      ]
     },
     "execution_count": 27,
     "metadata": {},
     "output_type": "execute_result"
    }
   ],
   "source": [
    "percentages"
   ]
  },
  {
   "cell_type": "code",
   "execution_count": null,
   "metadata": {
    "collapsed": true
   },
   "outputs": [],
   "source": []
  }
 ],
 "metadata": {
  "kernelspec": {
   "display_name": "Python 2",
   "language": "python",
   "name": "python2"
  },
  "language_info": {
   "codemirror_mode": {
    "name": "ipython",
    "version": 2
   },
   "file_extension": ".py",
   "mimetype": "text/x-python",
   "name": "python",
   "nbconvert_exporter": "python",
   "pygments_lexer": "ipython2",
   "version": "2.7.13"
  }
 },
 "nbformat": 4,
 "nbformat_minor": 2
}
