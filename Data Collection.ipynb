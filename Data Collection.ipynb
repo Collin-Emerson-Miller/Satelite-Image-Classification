{
 "cells": [
  {
   "cell_type": "code",
   "execution_count": 1,
   "metadata": {
    "collapsed": true
   },
   "outputs": [],
   "source": [
    "from __future__ import absolute_import\n",
    "from __future__ import division\n",
    "from __future__ import print_function\n",
    "import urllib\n",
    "import os\n",
    "import datetime"
   ]
  },
  {
   "cell_type": "code",
   "execution_count": 56,
   "metadata": {
    "collapsed": true
   },
   "outputs": [],
   "source": [
    "download_path = \"downloads\"\n",
    "year = 2018\n",
    "month = \"03\"\n",
    "day = 23"
   ]
  },
  {
   "cell_type": "code",
   "execution_count": 62,
   "metadata": {
    "collapsed": true
   },
   "outputs": [],
   "source": [
    "def download_image(url, file_name):\n",
    "    return urllib.urlretrieve(url, file_name)"
   ]
  },
  {
   "cell_type": "code",
   "execution_count": 104,
   "metadata": {},
   "outputs": [],
   "source": [
    "level = 5\n",
    "row = 11\n",
    "column = 8\n",
    "num_days = 1\n",
    "\n",
    "base = datetime.datetime.today()\n",
    "date_list = [base - datetime.timedelta(days=x) for x in range(0, num_days)]\n",
    "\n",
    "for i, date in enumerate(date_list):\n",
    "    f = download_image(date.strftime(\"https://gibs.earthdata.nasa.gov/wmts/epsg4326/best/VIIRS_SNPP_CorrectedReflectance_TrueColor/default/%Y-%m-%d/250m/{}/{}/{}.jpeg\".format(level, row, column)), os.path.join(download_path, \"{}_{}_{}_{}_{}_{}.jpg\".format(date.year, date.month, date.day, level, row, column)))"
   ]
  },
  {
   "cell_type": "code",
   "execution_count": 107,
   "metadata": {},
   "outputs": [],
   "source": [
    "a = f[1]"
   ]
  },
  {
   "cell_type": "code",
   "execution_count": 108,
   "metadata": {},
   "outputs": [
    {
     "data": {
      "text/plain": [
       "<httplib.HTTPMessage instance at 0x7ff6a40e8c20>"
      ]
     },
     "execution_count": 108,
     "metadata": {},
     "output_type": "execute_result"
    }
   ],
   "source": [
    "a"
   ]
  },
  {
   "cell_type": "code",
   "execution_count": 96,
   "metadata": {},
   "outputs": [],
   "source": [
    "level = 5\n",
    "row = 19\n",
    "column = 19\n",
    "num_days = 1\n",
    "\n",
    "\n",
    "base = datetime.datetime.today()\n",
    "date_list = [base - datetime.timedelta(days=x) for x in range(0, num_days)]\n",
    "\n",
    "for i, date in enumerate(date_list):\n",
    "    for x in xrange(row):\n",
    "        for y in xrange(column):\n",
    "            download_image(date.strftime(\"https://gibs.earthdata.nasa.gov/wmts/epsg4326/best/VIIRS_SNPP_CorrectedReflectance_TrueColor/default/%Y-%m-%d/250m/{}/{}/{}.jpeg\".format(level, x, y)), os.path.join(download_path, \"{}_{}_{}_{}_{}_{}.jpg\".format(date.year, date.month, date.day, level, x, y)))"
   ]
  },
  {
   "cell_type": "code",
   "execution_count": 5,
   "metadata": {
    "collapsed": true
   },
   "outputs": [],
   "source": [
    "with open(\"test_images.txt\", 'r') as f:\n",
    "    image_urls = f.read().split(\"\\n\")"
   ]
  },
  {
   "cell_type": "code",
   "execution_count": 10,
   "metadata": {
    "collapsed": true
   },
   "outputs": [],
   "source": [
    "if not os.path.exists(download_path):\n",
    "    os.mkdir(download_path)\n",
    "\n",
    "for i, image_url in enumerate(image_urls):\n",
    "    download_image(image_url, os.path.join(download_path, str(i)))"
   ]
  },
  {
   "cell_type": "code",
   "execution_count": 32,
   "metadata": {},
   "outputs": [
    {
     "data": {
      "text/plain": [
       "'https://gibs.earthdata.nasa.gov/wmts/epsg4326/best/VIIRS_SNPP_CorrectedReflectance_TrueColor/default/2018-02-10/250m/5/10/18.jpeg'"
      ]
     },
     "execution_count": 32,
     "metadata": {},
     "output_type": "execute_result"
    }
   ],
   "source": [
    "date.strftime(\"https://gibs.earthdata.nasa.gov/wmts/epsg4326/best/VIIRS_SNPP_CorrectedReflectance_TrueColor/default/%Y-%m-%d/250m/{}/{}/{}.jpeg\".format(level, row, column))"
   ]
  },
  {
   "cell_type": "code",
   "execution_count": null,
   "metadata": {
    "collapsed": true
   },
   "outputs": [],
   "source": []
  }
 ],
 "metadata": {
  "kernelspec": {
   "display_name": "Python 2",
   "language": "python",
   "name": "python2"
  },
  "language_info": {
   "codemirror_mode": {
    "name": "ipython",
    "version": 2
   },
   "file_extension": ".py",
   "mimetype": "text/x-python",
   "name": "python",
   "nbconvert_exporter": "python",
   "pygments_lexer": "ipython2",
   "version": "2.7.13"
  }
 },
 "nbformat": 4,
 "nbformat_minor": 2
}
