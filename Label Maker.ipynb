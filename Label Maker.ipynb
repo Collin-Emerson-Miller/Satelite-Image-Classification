{
 "cells": [
  {
   "cell_type": "code",
   "execution_count": 13,
   "metadata": {},
   "outputs": [],
   "source": [
    "import cv2\n",
    "import numpy\n",
    "import os\n",
    "import matplotlib.pyplot as plt\n",
    "%matplotlib inline\n",
    "\n",
    "import utils\n",
    "import uuid"
   ]
  },
  {
   "cell_type": "code",
   "execution_count": 27,
   "metadata": {
    "collapsed": true
   },
   "outputs": [],
   "source": [
    "image_size = (512,512)\n",
    "n_slices = 5\n",
    "ratio = (1, 1)\n",
    "corpus_path = \"data/pure/train/\"\n",
    "output_path = \"10AM\""
   ]
  },
  {
   "cell_type": "code",
   "execution_count": 28,
   "metadata": {
    "collapsed": true
   },
   "outputs": [],
   "source": [
    "labels = ['vegetation', 'water', 'desert', 'clouds', 'unknown']"
   ]
  },
  {
   "cell_type": "code",
   "execution_count": null,
   "metadata": {
    "collapsed": true
   },
   "outputs": [],
   "source": [
    "for folder in os.listdir(corpus_path):\n",
    "    plt.ion() # turn on interactive mode\n",
    "    for f_name in os.listdir(os.path.join(corpus_path, folder)):\n",
    "        img = cv2.imread(os.path.join(corpus_path, folder, f_name))\n",
    "        img = cv2.cvtColor(img, cv2.COLOR_BGR2RGB)\n",
    "        plt.figure()\n",
    "        plt.imshow(img)\n",
    "        plt.show()\n",
    "        slices = utils.prepare_images(img,image_size, ratio, n_slices)\n",
    "        for s in slices:\n",
    "            plt.figure()\n",
    "            plt.imshow(s)\n",
    "            plt.show()\n",
    "            label = raw_input(\"Press [enter] to continue.\")\n",
    "            label_path = os.path.join(corpus_path, labels[int(label)-1])\n",
    "            if not os.path.exists(label_path):\n",
    "                os.mkdir(label_path)\n",
    "            cv2.imwrite(os.path.join(output_path, folder, str(uuid.uuid4()) + \".jpg\"), s)"
   ]
  }
 ],
 "metadata": {
  "kernelspec": {
   "display_name": "Python 2",
   "language": "python",
   "name": "python2"
  },
  "language_info": {
   "codemirror_mode": {
    "name": "ipython",
    "version": 2
   },
   "file_extension": ".py",
   "mimetype": "text/x-python",
   "name": "python",
   "nbconvert_exporter": "python",
   "pygments_lexer": "ipython2",
   "version": "2.7.13"
  }
 },
 "nbformat": 4,
 "nbformat_minor": 2
}
